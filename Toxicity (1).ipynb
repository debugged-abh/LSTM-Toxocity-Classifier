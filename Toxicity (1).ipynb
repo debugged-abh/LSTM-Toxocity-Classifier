{
 "cells": [
  {
   "cell_type": "markdown",
   "metadata": {},
   "source": [
    "# 0. Install Dependencies and Bring in Data"
   ]
  },
  {
   "cell_type": "code",
   "execution_count": null,
   "metadata": {
    "collapsed": true,
    "jupyter": {
     "outputs_hidden": true
    },
    "tags": []
   },
   "outputs": [],
   "source": [
    "!pip install tensorflow tensorflow-gpu pandas matplotlib sklearn"
   ]
  },
  {
   "cell_type": "code",
   "execution_count": 3,
   "metadata": {
    "tags": []
   },
   "outputs": [],
   "source": [
    "import os\n",
    "import pandas as pd\n",
    "import tensorflow as tf\n",
    "import numpy as np"
   ]
  },
  {
   "cell_type": "code",
   "execution_count": 4,
   "metadata": {
    "tags": []
   },
   "outputs": [],
   "source": [
    "df = pd.read_csv(r\"C:\\\\Users\\\\Abhud\\\\Downloads\\\\glove.twitter.27B\\\\train.csv\")"
   ]
  },
  {
   "cell_type": "code",
   "execution_count": 6,
   "metadata": {
    "tags": []
   },
   "outputs": [],
   "source": [
    "df.head()\n",
    "quarter = len(df) // 10\n",
    "\n",
    "quarter_data = df.iloc[:quarter]"
   ]
  },
  {
   "cell_type": "markdown",
   "metadata": {},
   "source": [
    "# 1. Preprocess"
   ]
  },
  {
   "cell_type": "code",
   "execution_count": 7,
   "metadata": {
    "jupyter": {
     "outputs_hidden": true
    },
    "tags": []
   },
   "outputs": [
    {
     "name": "stdout",
     "output_type": "stream",
     "text": [
      "Package                            Version\n",
      "---------------------------------- -------------------\n",
      "absl-py                            1.4.0\n",
      "alabaster                          0.7.12\n",
      "amqp                               5.1.1\n",
      "anaconda-client                    1.7.2\n",
      "anaconda-navigator                 2.0.3\n",
      "anaconda-project                   0.9.1\n",
      "anyio                              4.0.0\n",
      "appdirs                            1.4.4\n",
      "argh                               0.26.2\n",
      "argon2-cffi                        20.1.0\n",
      "arrow                              1.2.3\n",
      "asgiref                            3.6.0\n",
      "asn1crypto                         1.4.0\n",
      "astroid                            2.5\n",
      "astropy                            4.2.1\n",
      "asttokens                          2.2.1\n",
      "astunparse                         1.6.3\n",
      "async-generator                    1.10\n",
      "atomicwrites                       1.4.0\n",
      "attrs                              23.1.0\n",
      "autobahn                           23.1.2\n",
      "Automat                            22.10.0\n",
      "autopep8                           1.5.6\n",
      "Babel                              2.9.0\n",
      "backcall                           0.2.0\n",
      "backports.functools-lru-cache      1.6.4\n",
      "backports.shutil-get-terminal-size 1.0.0\n",
      "backports.tempfile                 1.0\n",
      "backports.weakref                  1.0.post1\n",
      "backports.zoneinfo                 0.2.1\n",
      "bcrypt                             3.2.0\n",
      "beautifulsoup4                     4.11.2\n",
      "billiard                           3.6.4.0\n",
      "bitarray                           1.9.2\n",
      "bkcharts                           0.2\n",
      "black                              19.10b0\n",
      "bleach                             3.3.0\n",
      "bokeh                              2.3.2\n",
      "boto                               2.49.0\n",
      "boto3                              1.26.83\n",
      "botocore                           1.29.127\n",
      "Bottleneck                         1.3.2\n",
      "brotlipy                           0.7.0\n",
      "cachetools                         5.3.0\n",
      "celery                             5.2.7\n",
      "certifi                            2022.12.7\n",
      "cffi                               1.14.5\n",
      "channels                           4.0.0\n",
      "chardet                            4.0.0\n",
      "charset-normalizer                 3.0.1\n",
      "click                              8.1.3\n",
      "click-didyoumean                   0.3.0\n",
      "click-plugins                      1.1.1\n",
      "click-repl                         0.2.0\n",
      "cloudpickle                        1.6.0\n",
      "clyent                             1.2.2\n",
      "colorama                           0.4.4\n",
      "comm                               0.1.3\n",
      "comtypes                           1.1.9\n",
      "conda                              4.10.1\n",
      "conda-build                        3.21.4\n",
      "conda-content-trust                0+unknown\n",
      "conda-package-handling             1.7.3\n",
      "conda-repo-cli                     1.0.4\n",
      "conda-token                        0.3.0\n",
      "conda-verify                       3.4.2\n",
      "constantly                         15.1.0\n",
      "contextlib2                        0.6.0.post1\n",
      "croniter                           1.3.14\n",
      "cryptography                       40.0.2\n",
      "cycler                             0.10.0\n",
      "Cython                             0.29.23\n",
      "cytoolz                            0.11.0\n",
      "daphne                             4.0.0\n",
      "dask                               2021.4.0\n",
      "debugpy                            1.6.7\n",
      "decorator                          5.0.6\n",
      "defusedxml                         0.7.1\n",
      "diff-match-patch                   20200713\n",
      "distributed                        2021.4.0\n",
      "dj-rest-auth                       3.0.0\n",
      "Django                             4.2\n",
      "django-allauth                     0.52.0\n",
      "django-cors-headers                3.10.1\n",
      "django-drf-filepond                0.4.1\n",
      "django-filter                      21.1\n",
      "django-storages                    1.13.2\n",
      "djangorestframework                3.14.0\n",
      "docutils                           0.17\n",
      "entrypoints                        0.3\n",
      "et-xmlfile                         1.0.1\n",
      "exceptiongroup                     1.1.3\n",
      "execnb                             0.1.5\n",
      "executing                          1.2.0\n",
      "fastcache                          1.1.0\n",
      "fastcore                           1.5.29\n",
      "fastjsonschema                     2.18.0\n",
      "filelock                           3.0.12\n",
      "flake8                             3.9.0\n",
      "Flask                              1.1.2\n",
      "flatbuffers                        23.3.3\n",
      "fqdn                               1.5.1\n",
      "frozendict                         2.3.5\n",
      "fsspec                             0.9.0\n",
      "future                             0.18.2\n",
      "gast                               0.4.0\n",
      "gevent                             21.1.2\n",
      "glob2                              0.7\n",
      "google-auth                        2.16.3\n",
      "google-auth-oauthlib               0.4.6\n",
      "google-pasta                       0.2.0\n",
      "greenlet                           1.0.0\n",
      "grpcio                             1.53.0\n",
      "h5py                               2.10.0\n",
      "HeapDict                           1.0.1\n",
      "html5lib                           1.1\n",
      "hyperlink                          21.0.0\n",
      "idna                               2.10\n",
      "imagecodecs                        2021.3.31\n",
      "imageio                            2.9.0\n",
      "imagesize                          1.2.0\n",
      "importlib-metadata                 6.1.0\n",
      "importlib-resources                6.0.1\n",
      "incremental                        22.10.0\n",
      "iniconfig                          1.1.1\n",
      "intervaltree                       3.1.0\n",
      "ipykernel                          6.22.0\n",
      "ipython                            8.12.2\n",
      "ipython-genutils                   0.2.0\n",
      "ipywidgets                         8.0.3\n",
      "isoduration                        20.11.0\n",
      "isort                              5.8.0\n",
      "itsdangerous                       1.1.0\n",
      "jax                                0.4.7\n",
      "jdcal                              1.4.1\n",
      "jedi                               0.17.2\n",
      "Jinja2                             3.1.2\n",
      "jmespath                           1.0.1\n",
      "joblib                             1.0.1\n",
      "json5                              0.9.5\n",
      "jsonpointer                        2.4\n",
      "jsonschema                         4.19.0\n",
      "jsonschema-specifications          2023.7.1\n",
      "jupyter                            1.0.0\n",
      "jupyter-client                     8.3.1\n",
      "jupyter-console                    6.4.0\n",
      "jupyter-core                       5.3.0\n",
      "jupyter-events                     0.7.0\n",
      "jupyter-packaging                  0.7.12\n",
      "jupyter-server                     2.7.3\n",
      "jupyter-server-terminals           0.4.4\n",
      "jupyterlab                         3.0.14\n",
      "jupyterlab-link-share              0.3.0\n",
      "jupyterlab-pygments                0.1.2\n",
      "jupyterlab-server                  2.4.0\n",
      "jupyterlab-widgets                 3.0.7\n",
      "kaleido                            0.2.1\n",
      "keras                              2.12.0\n",
      "keyring                            22.3.0\n",
      "kiwisolver                         1.3.1\n",
      "kombu                              5.2.4\n",
      "lazy-object-proxy                  1.6.0\n",
      "libarchive-c                       2.9\n",
      "libclang                           16.0.0\n",
      "llvmlite                           0.36.0\n",
      "locket                             0.2.1\n",
      "lxml                               4.9.2\n",
      "Markdown                           3.3.6\n",
      "MarkupSafe                         2.1.2\n",
      "matplotlib                         3.3.4\n",
      "matplotlib-inline                  0.1.6\n",
      "mccabe                             0.6.1\n",
      "menuinst                           1.4.16\n",
      "mercury                            2.2.9\n",
      "mistune                            2.0.5\n",
      "mkl-fft                            1.3.0\n",
      "mkl-random                         1.2.1\n",
      "mkl-service                        2.3.0\n",
      "ml-dtypes                          0.0.4\n",
      "mock                               4.0.3\n",
      "more-itertools                     8.7.0\n",
      "mpmath                             1.2.1\n",
      "msgpack                            1.0.2\n",
      "multipledispatch                   0.6.0\n",
      "multitasking                       0.0.11\n",
      "mypy-extensions                    0.4.3\n",
      "navigator-updater                  0.2.1\n",
      "nbclassic                          0.2.6\n",
      "nbclient                           0.5.3\n",
      "nbconvert                          7.3.1\n",
      "nbformat                           5.9.2\n",
      "nest-asyncio                       1.5.1\n",
      "networkx                           2.5\n",
      "nltk                               3.6.1\n",
      "nose                               1.3.7\n",
      "notebook                           6.3.0\n",
      "numba                              0.53.1\n",
      "numexpr                            2.7.3\n",
      "numpy                              1.22.0\n",
      "numpydoc                           1.1.0\n",
      "oauthlib                           3.2.2\n",
      "olefile                            0.46\n",
      "openpyxl                           3.0.7\n",
      "opt-einsum                         3.3.0\n",
      "overrides                          7.4.0\n",
      "packaging                          23.0\n",
      "pandas                             1.5.3\n",
      "pandocfilters                      1.4.3\n",
      "paramiko                           2.7.2\n",
      "parso                              0.7.0\n",
      "partd                              1.2.0\n",
      "path                               15.1.2\n",
      "pathlib2                           2.3.5\n",
      "pathspec                           0.7.0\n",
      "patsy                              0.5.3\n",
      "pep8                               1.7.1\n",
      "pexpect                            4.8.0\n",
      "pickleshare                        0.7.5\n",
      "Pillow                             8.2.0\n",
      "pip                                21.0.1\n",
      "pkginfo                            1.7.0\n",
      "pkgutil-resolve-name               1.3.10\n",
      "platformdirs                       3.5.0\n",
      "plotly                             5.14.1\n",
      "pluggy                             0.13.1\n",
      "ply                                3.11\n",
      "pmdarima                           2.0.3\n",
      "prometheus-client                  0.10.1\n",
      "prompt-toolkit                     3.0.38\n",
      "protobuf                           4.22.1\n",
      "psutil                             5.8.0\n",
      "ptyprocess                         0.7.0\n",
      "pure-eval                          0.2.2\n",
      "py                                 1.10.0\n",
      "pyasn1                             0.4.8\n",
      "pyasn1-modules                     0.2.8\n",
      "pycodestyle                        2.6.0\n",
      "pycosat                            0.6.3\n",
      "pycparser                          2.20\n",
      "pycurl                             7.43.0.6\n",
      "pydocstyle                         6.0.0\n",
      "pyee                               8.2.2\n",
      "pyerfa                             1.7.3\n",
      "pyflakes                           2.2.0\n",
      "Pygments                           2.8.1\n",
      "PyJWT                              2.6.0\n",
      "pylint                             2.7.4\n",
      "pyls-black                         0.4.6\n",
      "pyls-spyder                        0.3.2\n",
      "PyNaCl                             1.4.0\n",
      "pyodbc                             4.0.0-unsupported\n",
      "pyOpenSSL                          23.1.1\n",
      "pyparsing                          2.4.7\n",
      "pyppeteer                          1.0.2\n",
      "pyreadline                         2.1\n",
      "pyrsistent                         0.17.3\n",
      "PySocks                            1.7.1\n",
      "pytest                             6.2.3\n",
      "python-dateutil                    2.8.2\n",
      "python-dotenv                      1.0.0\n",
      "python-json-logger                 2.0.7\n",
      "python-jsonrpc-server              0.4.0\n",
      "python-language-server             0.36.2\n",
      "python3-openid                     3.2.0\n",
      "pytz                               2022.7.1\n",
      "PyWavelets                         1.1.1\n",
      "pywin32                            306\n",
      "pywin32-ctypes                     0.2.0\n",
      "pywinpty                           2.0.11\n",
      "PyYAML                             6.0\n",
      "pyzmq                              25.1.1\n",
      "QDarkStyle                         2.8.1\n",
      "QtAwesome                          1.0.2\n",
      "qtconsole                          5.0.3\n",
      "QtPy                               1.9.0\n",
      "referencing                        0.30.2\n",
      "regex                              2021.4.4\n",
      "requests                           2.28.2\n",
      "requests-oauthlib                  1.3.1\n",
      "rfc3339-validator                  0.1.4\n",
      "rfc3986-validator                  0.1.1\n",
      "rope                               0.18.0\n",
      "rpds-py                            0.10.3\n",
      "rsa                                4.9\n",
      "Rtree                              0.9.7\n",
      "ruamel-yaml-conda                  0.15.100\n",
      "s3transfer                         0.6.1\n",
      "scikit-image                       0.18.1\n",
      "scikit-learn                       0.24.1\n",
      "scipy                              1.10.1\n",
      "seaborn                            0.11.1\n",
      "Send2Trash                         1.8.2\n",
      "service-identity                   21.1.0\n",
      "setuptools                         52.0.0.post20210125\n",
      "shortuuid                          1.0.11\n",
      "simplegeneric                      0.8.1\n",
      "singledispatch                     0.0.0\n",
      "sip                                4.19.13\n",
      "six                                1.15.0\n",
      "sniffio                            1.2.0\n",
      "snowballstemmer                    2.1.0\n",
      "sortedcollections                  2.1.0\n",
      "sortedcontainers                   2.3.0\n",
      "soupsieve                          2.2.1\n",
      "Sphinx                             4.0.1\n",
      "sphinxcontrib-applehelp            1.0.2\n",
      "sphinxcontrib-devhelp              1.0.2\n",
      "sphinxcontrib-htmlhelp             1.0.3\n",
      "sphinxcontrib-jsmath               1.0.1\n",
      "sphinxcontrib-qthelp               1.0.3\n",
      "sphinxcontrib-serializinghtml      1.1.4\n",
      "sphinxcontrib-websupport           1.2.4\n",
      "spyder                             4.2.5\n",
      "spyder-kernels                     1.10.2\n",
      "SQLAlchemy                         1.4.27\n",
      "sqlparse                           0.4.4\n",
      "stack-data                         0.6.2\n",
      "statsmodels                        0.13.5\n",
      "sympy                              1.8\n",
      "tables                             3.6.1\n",
      "tblib                              1.7.0\n",
      "tenacity                           8.2.2\n",
      "tensorboard                        2.12.0\n",
      "tensorboard-data-server            0.7.0\n",
      "tensorboard-plugin-wit             1.8.1\n",
      "tensorflow                         2.12.0\n",
      "tensorflow-estimator               2.12.0\n",
      "tensorflow-intel                   2.12.0\n",
      "tensorflow-io-gcs-filesystem       0.31.0\n",
      "termcolor                          2.2.0\n",
      "terminado                          0.9.4\n",
      "testpath                           0.4.4\n",
      "textdistance                       4.2.1\n",
      "threadpoolctl                      2.1.0\n",
      "three-merge                        0.1.1\n",
      "tifffile                           2021.4.8\n",
      "tinycss2                           1.2.1\n",
      "toml                               0.10.2\n",
      "toolz                              0.11.1\n",
      "tornado                            6.3.3\n",
      "tqdm                               4.59.0\n",
      "traitlets                          5.9.0\n",
      "Twisted                            22.10.0\n",
      "twisted-iocpsupport                1.0.3\n",
      "txaio                              23.1.1\n",
      "typed-ast                          1.4.2\n",
      "typing-extensions                  3.7.4.3\n",
      "tzdata                             2023.3\n",
      "ujson                              4.0.2\n",
      "unicodecsv                         0.14.1\n",
      "uri-template                       1.3.0\n",
      "urllib3                            1.26.4\n",
      "vine                               5.0.0\n",
      "watchdog                           1.0.2\n",
      "wcwidth                            0.2.5\n",
      "webcolors                          1.13\n",
      "webencodings                       0.5.1\n",
      "websocket-client                   1.5.1\n",
      "websockets                         10.4\n",
      "Werkzeug                           1.0.1\n",
      "wheel                              0.36.2\n",
      "whitenoise                         6.4.0\n",
      "widgetsnbextension                 4.0.7\n",
      "win-inet-pton                      1.1.0\n",
      "win-unicode-console                0.5\n",
      "wincertstore                       0.2\n",
      "wrapt                              1.12.1\n",
      "xlrd                               2.0.1\n",
      "XlsxWriter                         1.3.8\n",
      "xlwings                            0.23.0\n",
      "xlwt                               1.3.0\n",
      "xmltodict                          0.12.0\n",
      "yapf                               0.31.0\n",
      "yfinance                           0.2.12\n",
      "zict                               2.0.0\n",
      "zipp                               3.4.1\n",
      "zope.event                         4.5.0\n",
      "zope.interface                     5.3.0\n"
     ]
    }
   ],
   "source": [
    "!pip list"
   ]
  },
  {
   "cell_type": "code",
   "execution_count": 8,
   "metadata": {
    "tags": []
   },
   "outputs": [],
   "source": [
    "from tensorflow.keras.layers import TextVectorization"
   ]
  },
  {
   "cell_type": "code",
   "execution_count": 17,
   "metadata": {
    "tags": []
   },
   "outputs": [
    {
     "data": {
      "text/plain": [
       "0        Explanation\\nWhy the edits made under my usern...\n",
       "1        D'aww! He matches this background colour I'm s...\n",
       "2        Hey man, I'm really not trying to edit war. It...\n",
       "3        \"\\nMore\\nI can't make any real suggestions on ...\n",
       "4        You, sir, are my hero. Any chance you remember...\n",
       "                               ...                        \n",
       "15952    Tags\\n\\nThose tags are horrid. Please, someone...\n",
       "15953    Congratulations \\n\\nYou're now an admin. Use t...\n",
       "15954    I've seen discussions on the internet that men...\n",
       "15955    Hi, the recent edit you made to Wikipedia:Arti...\n",
       "15956    Wow, what an incredible douchebag, I love the ...\n",
       "Name: comment_text, Length: 15957, dtype: object"
      ]
     },
     "execution_count": 17,
     "metadata": {},
     "output_type": "execute_result"
    }
   ],
   "source": [
    "X = quarter_data['comment_text']\n",
    "y = quarter_data[quarter_data.columns[2:]].values\n"
   ]
  },
  {
   "cell_type": "code",
   "execution_count": 18,
   "metadata": {
    "tags": []
   },
   "outputs": [],
   "source": [
    "MAX_FEATURES = 20000 # number of words in the vocab"
   ]
  },
  {
   "cell_type": "code",
   "execution_count": 19,
   "metadata": {
    "tags": []
   },
   "outputs": [],
   "source": [
    "vectorizer = TextVectorization(max_tokens=MAX_FEATURES,\n",
    "                               output_sequence_length=180,\n",
    "                               output_mode='int')"
   ]
  },
  {
   "cell_type": "code",
   "execution_count": 20,
   "metadata": {
    "tags": []
   },
   "outputs": [
    {
     "data": {
      "text/plain": [
       "array([\"Explanation\\nWhy the edits made under my username Hardcore Metallica Fan were reverted? They weren't vandalisms, just closure on some GAs after I voted at New York Dolls FAC. And please don't remove the template from the talk page since I'm retired now.89.205.38.27\",\n",
       "       \"D'aww! He matches this background colour I'm seemingly stuck with. Thanks.  (talk) 21:51, January 11, 2016 (UTC)\",\n",
       "       \"Hey man, I'm really not trying to edit war. It's just that this guy is constantly removing relevant information and talking to me through edits instead of my talk page. He seems to care more about the formatting than the actual info.\",\n",
       "       ...,\n",
       "       \"I've seen discussions on the internet that mention that Milly Kondracke actually was found to have Multiple System Atrophy and not Parkinson's Disease.  http://www.parkinsons-information-exchange-network-online.com/parkmail1.1/2005a/msg00545.html\",\n",
       "       'Hi, the recent edit you made to Wikipedia:Articles for creation/Today has been reverted, as it appears to be unconstructive. Use the sandbox for any test edits you want to make. Thanks.',\n",
       "       \"Wow, what an incredible douchebag, I love the hyperbole 'I dread to think of the consequences' - what a self-important jackass.24.224.214.165\"],\n",
       "      dtype=object)"
      ]
     },
     "execution_count": 20,
     "metadata": {},
     "output_type": "execute_result"
    }
   ],
   "source": [
    "vectorizer.adapt(X.values)\n",
    "X.values"
   ]
  },
  {
   "cell_type": "code",
   "execution_count": 21,
   "metadata": {
    "tags": []
   },
   "outputs": [],
   "source": [
    "vectorized_text = vectorizer(X.values)"
   ]
  },
  {
   "cell_type": "code",
   "execution_count": 22,
   "metadata": {
    "tags": []
   },
   "outputs": [],
   "source": [
    "#MCSHBAP - map, chache, shuffle, batch, prefetch  from_tensor_slices, list_file\n",
    "dataset = tf.data.Dataset.from_tensor_slices((vectorized_text, y))\n",
    "dataset = dataset.cache()\n",
    "dataset = dataset.shuffle(16000)\n",
    "dataset = dataset.batch(16)\n",
    "dataset = dataset.prefetch(8) # helps bottlenecks"
   ]
  },
  {
   "cell_type": "code",
   "execution_count": 23,
   "metadata": {
    "tags": []
   },
   "outputs": [],
   "source": [
    "train = dataset.take(int(len(dataset)*.7))\n",
    "val = dataset.skip(int(len(dataset)*.7)).take(int(len(dataset)*.2))\n",
    "test = dataset.skip(int(len(dataset)*.9)).take(int(len(dataset)*.1))"
   ]
  },
  {
   "cell_type": "markdown",
   "metadata": {},
   "source": [
    "# 2. Create Sequential Model"
   ]
  },
  {
   "cell_type": "code",
   "execution_count": 24,
   "metadata": {
    "tags": []
   },
   "outputs": [],
   "source": [
    "from tensorflow.keras.models import Sequential\n",
    "from tensorflow.keras.layers import LSTM, Dropout, Bidirectional, Dense, Embedding"
   ]
  },
  {
   "cell_type": "code",
   "execution_count": 54,
   "metadata": {
    "tags": []
   },
   "outputs": [],
   "source": [
    "model = Sequential()\n",
    "# Create the embedding layer \n",
    "model.add(Embedding(MAX_FEATURES+1, 32))\n",
    "# Bidirectional LSTM Layer\n",
    "model.add(Bidirectional(LSTM(32, activation='tanh')))\n",
    "# Feature extractor Fully connected layers\n",
    "model.add(Dense(128, activation='relu'))\n",
    "model.add(Dense(256, activation='relu'))\n",
    "model.add(Dense(128, activation='relu'))\n",
    "# Final layer \n",
    "model.add(Dense(6, activation='sigmoid'))"
   ]
  },
  {
   "cell_type": "code",
   "execution_count": 55,
   "metadata": {
    "tags": []
   },
   "outputs": [],
   "source": [
    "model.compile(loss='BinaryCrossentropy', optimizer='Adam')"
   ]
  },
  {
   "cell_type": "code",
   "execution_count": 56,
   "metadata": {
    "tags": []
   },
   "outputs": [
    {
     "name": "stdout",
     "output_type": "stream",
     "text": [
      "Model: \"sequential_3\"\n",
      "_________________________________________________________________\n",
      " Layer (type)                Output Shape              Param #   \n",
      "=================================================================\n",
      " embedding_2 (Embedding)     (None, None, 32)          640032    \n",
      "                                                                 \n",
      " bidirectional_1 (Bidirectio  (None, 64)               16640     \n",
      " nal)                                                            \n",
      "                                                                 \n",
      " dense_4 (Dense)             (None, 128)               8320      \n",
      "                                                                 \n",
      " dense_5 (Dense)             (None, 256)               33024     \n",
      "                                                                 \n",
      " dense_6 (Dense)             (None, 128)               32896     \n",
      "                                                                 \n",
      " dense_7 (Dense)             (None, 6)                 774       \n",
      "                                                                 \n",
      "=================================================================\n",
      "Total params: 731,686\n",
      "Trainable params: 731,686\n",
      "Non-trainable params: 0\n",
      "_________________________________________________________________\n"
     ]
    }
   ],
   "source": [
    "model.summary()"
   ]
  },
  {
   "cell_type": "code",
   "execution_count": 87,
   "metadata": {
    "tags": []
   },
   "outputs": [
    {
     "name": "stdout",
     "output_type": "stream",
     "text": [
      "Epoch 1/2\n",
      "6981/6981 [==============================] - 2380s 354ms/step - loss: 0.0619 - val_loss: 0.0523\n",
      "Epoch 2/2\n",
      "6981/6981 [==============================] - 2401s 357ms/step - loss: 0.0512 - val_loss: 0.0468\n"
      "Epoch 3/5\n",
      "6981/6981 [==============================] - 2478s 357ms/step - loss: 0.0512 - val_loss: 0.0468\n"
      "Epoch 4/5\n",
      "6981/6981 [==============================] - 2456s 357ms/step - loss: 0.0512 - val_loss: 0.0468\n"
      "Epoch 5/5\n",
      "6981/6981 [==============================] - 2407s 357ms/step - loss: 0.0512 - val_loss: 0.0468\n"
     ]
    }
   ],
   "source": [
    "history = model.fit(train, epochs=5, validation_data=val)\n",
    "\n"
   ]
  },
  {
   "cell_type": "code",
   "execution_count": 88,
   "metadata": {
    "tags": []
   },
   "outputs": [],
   "source": [
    "from matplotlib import pyplot as plt"
   ]
  },
  {
   "cell_type": "code",
   "execution_count": 89,
   "metadata": {
    "jupyter": {
     "outputs_hidden": true
    },
    "tags": []
   },
   "outputs": [
    {
     "data": {
      "text/plain": [
       "<Figure size 800x500 with 0 Axes>"
      ]
     },
     "metadata": {},
     "output_type": "display_data"
    },
    {
     "data": {
      "image/png": "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",
      "text/plain": [
       "<Figure size 640x480 with 1 Axes>"
      ]
     },
     "metadata": {},
     "output_type": "display_data"
    }
   ],
   "source": [
    "plt.figure(figsize=(8,5))\n",
    "pd.DataFrame(history.history).plot()\n",
    "plt.show()"
   ]
  },
  {
   "cell_type": "markdown",
   "metadata": {},
   "source": [
    "# 3. Make Predictions"
   ]
  },
  {
   "cell_type": "code",
   "execution_count": 90,
   "metadata": {
    "tags": []
   },
   "outputs": [],
   "source": [
    "input_text = vectorizer('i will kill you!')\n",
    "input_text = tf.expand_dims(input_text, axis=0)\n"
   ]
  },
  {
   "cell_type": "code",
   "execution_count": 91,
   "metadata": {
    "tags": []
   },
   "outputs": [
    {
     "name": "stdout",
     "output_type": "stream",
     "text": [
      "1/1 [==============================] - 0s 25ms/step\n"
     ]
    }
   ],
   "source": [
    "res = model.predict(input_text)"
   ]
  },
  {
   "cell_type": "code",
   "execution_count": 92,
   "metadata": {
    "jupyter": {
     "source_hidden": true
    }
   },
   "outputs": [
    {
     "data": {
      "text/plain": [
       "array([[1, 0, 0, 0, 0, 0]])"
      ]
     },
     "execution_count": 92,
     "metadata": {},
     "output_type": "execute_result"
    }
   ],
   "source": [
    "(res > 0.5).astype(int)"
   ]
  },
  {
   "cell_type": "code",
   "execution_count": 77,
   "metadata": {},
   "outputs": [],
   "source": [
    "batch_X, batch_y = test.as_numpy_iterator().next()"
   ]
  },
  {
   "cell_type": "code",
   "execution_count": 66,
   "metadata": {
    "jupyter": {
     "outputs_hidden": true
    },
    "tags": []
   },
   "outputs": [
    {
     "name": "stdout",
     "output_type": "stream",
     "text": [
      "1/1 [==============================] - 0s 31ms/step\n"
     ]
    },
    {
     "data": {
      "text/plain": [
       "array([[0, 0, 0, 0, 0, 0],\n",
       "       [1, 0, 1, 0, 1, 0],\n",
       "       [0, 0, 0, 0, 0, 0],\n",
       "       [0, 0, 0, 0, 0, 0],\n",
       "       [0, 0, 0, 0, 0, 0],\n",
       "       [0, 0, 0, 0, 0, 0],\n",
       "       [0, 0, 0, 0, 0, 0],\n",
       "       [0, 0, 0, 0, 0, 0],\n",
       "       [0, 0, 0, 0, 0, 0],\n",
       "       [0, 0, 0, 0, 0, 0],\n",
       "       [0, 0, 0, 0, 0, 0],\n",
       "       [0, 0, 0, 0, 0, 0],\n",
       "       [0, 0, 0, 0, 0, 0],\n",
       "       [0, 0, 0, 0, 0, 0],\n",
       "       [0, 0, 0, 0, 0, 0],\n",
       "       [0, 0, 0, 0, 0, 0]])"
      ]
     },
     "execution_count": 66,
     "metadata": {},
     "output_type": "execute_result"
    }
   ],
   "source": [
    "(model.predict(batch_X) > 0.5).astype(int)"
   ]
  },
  {
   "cell_type": "code",
   "execution_count": 67,
   "metadata": {},
   "outputs": [
    {
     "data": {
      "text/plain": [
       "(1, 6)"
      ]
     },
     "execution_count": 67,
     "metadata": {},
     "output_type": "execute_result"
    }
   ],
   "source": [
    "res.shape"
   ]
  },
  {
   "cell_type": "markdown",
   "metadata": {},
   "source": [
    "# 4. Evaluate Model"
   ]
  },
  {
   "cell_type": "code",
   "execution_count": 68,
   "metadata": {
    "tags": []
   },
   "outputs": [],
   "source": [
    "from tensorflow.keras.metrics import Precision, Recall, CategoricalAccuracy"
   ]
  },
  {
   "cell_type": "code",
   "execution_count": 69,
   "metadata": {
    "tags": []
   },
   "outputs": [],
   "source": [
    "pre = Precision()\n",
    "re = Recall()\n",
    "acc = CategoricalAccuracy()"
   ]
  },
  {
   "cell_type": "code",
   "execution_count": 70,
   "metadata": {
    "tags": []
   },
   "outputs": [
    {
     "name": "stdout",
     "output_type": "stream",
     "text": [
      "1/1 [==============================] - 0s 36ms/step\n",
      "1/1 [==============================] - 0s 44ms/step\n",
      "1/1 [==============================] - 0s 30ms/step\n",
      "1/1 [==============================] - 0s 32ms/step\n",
      "1/1 [==============================] - 0s 31ms/step\n",
      "1/1 [==============================] - 0s 31ms/step\n",
      "1/1 [==============================] - 0s 29ms/step\n",
      "1/1 [==============================] - 0s 34ms/step\n",
      "1/1 [==============================] - 0s 29ms/step\n",
      "1/1 [==============================] - 0s 33ms/step\n",
      "1/1 [==============================] - 0s 30ms/step\n",
      "1/1 [==============================] - 0s 29ms/step\n",
      "1/1 [==============================] - 0s 37ms/step\n",
      "1/1 [==============================] - 0s 35ms/step\n",
      "1/1 [==============================] - 0s 38ms/step\n",
      "1/1 [==============================] - 0s 35ms/step\n",
      "1/1 [==============================] - 0s 30ms/step\n",
      "1/1 [==============================] - 0s 37ms/step\n",
      "1/1 [==============================] - 0s 42ms/step\n",
      "1/1 [==============================] - 0s 32ms/step\n",
      "1/1 [==============================] - 0s 42ms/step\n",
      "1/1 [==============================] - 0s 40ms/step\n",
      "1/1 [==============================] - 0s 33ms/step\n",
      "1/1 [==============================] - 0s 35ms/step\n",
      "1/1 [==============================] - 0s 34ms/step\n",
      "1/1 [==============================] - 0s 42ms/step\n",
      "1/1 [==============================] - 0s 34ms/step\n",
      "1/1 [==============================] - 0s 38ms/step\n",
      "1/1 [==============================] - 0s 38ms/step\n",
      "1/1 [==============================] - 0s 37ms/step\n",
      "1/1 [==============================] - 0s 34ms/step\n",
      "1/1 [==============================] - 0s 39ms/step\n",
      "1/1 [==============================] - 0s 42ms/step\n",
      "1/1 [==============================] - 0s 36ms/step\n",
      "1/1 [==============================] - 0s 34ms/step\n",
      "1/1 [==============================] - 0s 37ms/step\n",
      "1/1 [==============================] - 0s 30ms/step\n",
      "1/1 [==============================] - 0s 32ms/step\n",
      "1/1 [==============================] - 0s 32ms/step\n",
      "1/1 [==============================] - 0s 32ms/step\n",
      "1/1 [==============================] - 0s 31ms/step\n",
      "1/1 [==============================] - 0s 30ms/step\n",
      "1/1 [==============================] - 0s 33ms/step\n",
      "1/1 [==============================] - 0s 35ms/step\n",
      "1/1 [==============================] - 0s 31ms/step\n",
      "1/1 [==============================] - 0s 33ms/step\n",
      "1/1 [==============================] - 0s 30ms/step\n",
      "1/1 [==============================] - 0s 31ms/step\n",
      "1/1 [==============================] - 0s 40ms/step\n",
      "1/1 [==============================] - 0s 32ms/step\n",
      "1/1 [==============================] - 0s 29ms/step\n",
      "1/1 [==============================] - 0s 31ms/step\n",
      "1/1 [==============================] - 0s 33ms/step\n",
      "1/1 [==============================] - 0s 29ms/step\n",
      "1/1 [==============================] - 0s 32ms/step\n",
      "1/1 [==============================] - 0s 31ms/step\n",
      "1/1 [==============================] - 0s 29ms/step\n",
      "1/1 [==============================] - 0s 31ms/step\n",
      "1/1 [==============================] - 0s 31ms/step\n",
      "1/1 [==============================] - 0s 31ms/step\n",
      "1/1 [==============================] - 0s 30ms/step\n",
      "1/1 [==============================] - 0s 34ms/step\n",
      "1/1 [==============================] - 0s 31ms/step\n",
      "1/1 [==============================] - 0s 31ms/step\n",
      "1/1 [==============================] - 0s 33ms/step\n",
      "1/1 [==============================] - 0s 32ms/step\n",
      "1/1 [==============================] - 0s 31ms/step\n",
      "1/1 [==============================] - 0s 30ms/step\n",
      "1/1 [==============================] - 0s 30ms/step\n",
      "1/1 [==============================] - 0s 33ms/step\n",
      "1/1 [==============================] - 0s 31ms/step\n",
      "1/1 [==============================] - 0s 27ms/step\n",
      "1/1 [==============================] - 0s 32ms/step\n",
      "1/1 [==============================] - 0s 31ms/step\n",
      "1/1 [==============================] - 0s 35ms/step\n",
      "1/1 [==============================] - 0s 34ms/step\n",
      "1/1 [==============================] - 0s 30ms/step\n",
      "1/1 [==============================] - 0s 30ms/step\n",
      "1/1 [==============================] - 0s 33ms/step\n",
      "1/1 [==============================] - 0s 31ms/step\n",
      "1/1 [==============================] - 0s 30ms/step\n",
      "1/1 [==============================] - 0s 33ms/step\n",
      "1/1 [==============================] - 0s 36ms/step\n",
      "1/1 [==============================] - 0s 31ms/step\n",
      "1/1 [==============================] - 0s 28ms/step\n",
      "1/1 [==============================] - 0s 34ms/step\n",
      "1/1 [==============================] - 0s 28ms/step\n",
      "1/1 [==============================] - 0s 36ms/step\n",
      "1/1 [==============================] - 0s 34ms/step\n",
      "1/1 [==============================] - 0s 29ms/step\n",
      "1/1 [==============================] - 0s 30ms/step\n",
      "1/1 [==============================] - 0s 30ms/step\n",
      "1/1 [==============================] - 0s 32ms/step\n",
      "1/1 [==============================] - 0s 28ms/step\n",
      "1/1 [==============================] - 0s 30ms/step\n",
      "1/1 [==============================] - 0s 32ms/step\n",
      "1/1 [==============================] - 0s 30ms/step\n",
      "1/1 [==============================] - 0s 31ms/step\n",
      "1/1 [==============================] - 0s 31ms/step\n"
     ]
    }
   ],
   "source": [
    "for batch in test.as_numpy_iterator(): \n",
    "    # Unpack the batch \n",
    "    X_true, y_true = batch\n",
    "    # Make a prediction \n",
    "    yhat = model.predict(X_true)\n",
    "    \n",
    "    # Flatten the predictions\n",
    "    y_true = y_true.flatten()\n",
    "    yhat = yhat.flatten()\n",
    "    \n",
    "    pre.update_state(y_true, yhat)\n",
    "    re.update_state(y_true, yhat)\n",
    "    acc.update_state(y_true, yhat)"
   ]
  },
  {
   "cell_type": "code",
   "execution_count": 71,
   "metadata": {
    "tags": []
   },
   "outputs": [
    {
     "name": "stdout",
     "output_type": "stream",
     "text": [
      "Precision: 0.759036123752594, Recall:0.6057692170143127, Accuracy:0.38383838534355164\n"
     ]
    }
   ],
   "source": [
    "print(f'Precision: {pre.result().numpy()}, Recall:{re.result().numpy()}, Accuracy:{acc.result().numpy()}')"
   ]
  }
 ],
 "metadata": {
  "kernelspec": {
   "display_name": "Python 3 (ipykernel)",
   "language": "python",
   "name": "python3"
  },
  "language_info": {
   "codemirror_mode": {
    "name": "ipython",
    "version": 3
   },
   "file_extension": ".py",
   "mimetype": "text/x-python",
   "name": "python",
   "nbconvert_exporter": "python",
   "pygments_lexer": "ipython3",
   "version": "3.8.8"
  }
 },
 "nbformat": 4,
 "nbformat_minor": 4
}
