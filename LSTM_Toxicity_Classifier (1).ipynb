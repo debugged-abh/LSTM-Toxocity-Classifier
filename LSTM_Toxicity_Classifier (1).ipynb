{
 "cells": [
  {
   "cell_type": "markdown",
   "metadata": {},
   "source": [
    "# 0. Install Dependencies and Bring in Data"
   ]
  },
  {
   "cell_type": "code",
   "execution_count": null,
   "metadata": {
    "collapsed": true,
    "jupyter": {
     "outputs_hidden": true
    },
    "tags": []
   },
   "outputs": [],
   "source": [
    "!pip install tensorflow tensorflow-gpu pandas matplotlib sklearn"
   ]
  },
  {
   "cell_type": "code",
   "execution_count": 3,
   "metadata": {
    "tags": []
   },
   "outputs": [],
   "source": [
    "import os\n",
    "import pandas as pd\n",
    "import tensorflow as tf\n",
    "import numpy as np"
   ]
  },
  {
   "cell_type": "code",
   "execution_count": 4,
   "metadata": {
    "tags": []
   },
   "outputs": [],
   "source": [
    "df = pd.read_csv(r\"C:\\\\Users\\\\Abhud\\\\Downloads\\\\glove.twitter.27B\\\\train.csv\")"
   ]
  },
  {
   "cell_type": "code",
   "execution_count": 5,
   "metadata": {
    "tags": []
   },
   "outputs": [
    {
     "data": {
      "text/html": [
       "<div>\n",
       "<style scoped>\n",
       "    .dataframe tbody tr th:only-of-type {\n",
       "        vertical-align: middle;\n",
       "    }\n",
       "\n",
       "    .dataframe tbody tr th {\n",
       "        vertical-align: top;\n",
       "    }\n",
       "\n",
       "    .dataframe thead th {\n",
       "        text-align: right;\n",
       "    }\n",
       "</style>\n",
       "<table border=\"1\" class=\"dataframe\">\n",
       "  <thead>\n",
       "    <tr style=\"text-align: right;\">\n",
       "      <th></th>\n",
       "      <th>id</th>\n",
       "      <th>comment_text</th>\n",
       "      <th>toxic</th>\n",
       "      <th>severe_toxic</th>\n",
       "      <th>obscene</th>\n",
       "      <th>threat</th>\n",
       "      <th>insult</th>\n",
       "      <th>identity_hate</th>\n",
       "    </tr>\n",
       "  </thead>\n",
       "  <tbody>\n",
       "    <tr>\n",
       "      <th>0</th>\n",
       "      <td>0000997932d777bf</td>\n",
       "      <td>Explanation\\nWhy the edits made under my usern...</td>\n",
       "      <td>0</td>\n",
       "      <td>0</td>\n",
       "      <td>0</td>\n",
       "      <td>0</td>\n",
       "      <td>0</td>\n",
       "      <td>0</td>\n",
       "    </tr>\n",
       "    <tr>\n",
       "      <th>1</th>\n",
       "      <td>000103f0d9cfb60f</td>\n",
       "      <td>D'aww! He matches this background colour I'm s...</td>\n",
       "      <td>0</td>\n",
       "      <td>0</td>\n",
       "      <td>0</td>\n",
       "      <td>0</td>\n",
       "      <td>0</td>\n",
       "      <td>0</td>\n",
       "    </tr>\n",
       "    <tr>\n",
       "      <th>2</th>\n",
       "      <td>000113f07ec002fd</td>\n",
       "      <td>Hey man, I'm really not trying to edit war. It...</td>\n",
       "      <td>0</td>\n",
       "      <td>0</td>\n",
       "      <td>0</td>\n",
       "      <td>0</td>\n",
       "      <td>0</td>\n",
       "      <td>0</td>\n",
       "    </tr>\n",
       "    <tr>\n",
       "      <th>3</th>\n",
       "      <td>0001b41b1c6bb37e</td>\n",
       "      <td>\"\\nMore\\nI can't make any real suggestions on ...</td>\n",
       "      <td>0</td>\n",
       "      <td>0</td>\n",
       "      <td>0</td>\n",
       "      <td>0</td>\n",
       "      <td>0</td>\n",
       "      <td>0</td>\n",
       "    </tr>\n",
       "    <tr>\n",
       "      <th>4</th>\n",
       "      <td>0001d958c54c6e35</td>\n",
       "      <td>You, sir, are my hero. Any chance you remember...</td>\n",
       "      <td>0</td>\n",
       "      <td>0</td>\n",
       "      <td>0</td>\n",
       "      <td>0</td>\n",
       "      <td>0</td>\n",
       "      <td>0</td>\n",
       "    </tr>\n",
       "  </tbody>\n",
       "</table>\n",
       "</div>"
      ],
      "text/plain": [
       "                 id                                       comment_text  toxic  \\\n",
       "0  0000997932d777bf  Explanation\\nWhy the edits made under my usern...      0   \n",
       "1  000103f0d9cfb60f  D'aww! He matches this background colour I'm s...      0   \n",
       "2  000113f07ec002fd  Hey man, I'm really not trying to edit war. It...      0   \n",
       "3  0001b41b1c6bb37e  \"\\nMore\\nI can't make any real suggestions on ...      0   \n",
       "4  0001d958c54c6e35  You, sir, are my hero. Any chance you remember...      0   \n",
       "\n",
       "   severe_toxic  obscene  threat  insult  identity_hate  \n",
       "0             0        0       0       0              0  \n",
       "1             0        0       0       0              0  \n",
       "2             0        0       0       0              0  \n",
       "3             0        0       0       0              0  \n",
       "4             0        0       0       0              0  "
      ]
     },
     "execution_count": 5,
     "metadata": {},
     "output_type": "execute_result"
    }
   ],
   "source": [
    "df.head()\n"
   ]
  },
  {
   "cell_type": "markdown",
   "metadata": {},
   "source": [
    "# 1. Preprocess"
   ]
  },
  {
   "cell_type": "code",
   "execution_count": 7,
   "metadata": {
    "jupyter": {
     "outputs_hidden": true
    },
    "tags": []
   },
   "outputs": [
    {
     "name": "stdout",
     "output_type": "stream",
     "text": [
      "Package                            Version\n",
      "---------------------------------- -------------------\n",
      "absl-py                            1.4.0\n",
      "alabaster                          0.7.12\n",
      "amqp                               5.1.1\n",
      "anaconda-client                    1.7.2\n",
      "anaconda-navigator                 2.0.3\n",
      "anaconda-project                   0.9.1\n",
      "anyio                              4.0.0\n",
      "appdirs                            1.4.4\n",
      "argh                               0.26.2\n",
      "argon2-cffi                        20.1.0\n",
      "arrow                              1.2.3\n",
      "asgiref                            3.6.0\n",
      "asn1crypto                         1.4.0\n",
      "astroid                            2.5\n",
      "astropy                            4.2.1\n",
      "asttokens                          2.2.1\n",
      "astunparse                         1.6.3\n",
      "async-generator                    1.10\n",
      "atomicwrites                       1.4.0\n",
      "attrs                              23.1.0\n",
      "autobahn                           23.1.2\n",
      "Automat                            22.10.0\n",
      "autopep8                           1.5.6\n",
      "Babel                              2.9.0\n",
      "backcall                           0.2.0\n",
      "backports.functools-lru-cache      1.6.4\n",
      "backports.shutil-get-terminal-size 1.0.0\n",
      "backports.tempfile                 1.0\n",
      "backports.weakref                  1.0.post1\n",
      "backports.zoneinfo                 0.2.1\n",
      "bcrypt                             3.2.0\n",
      "beautifulsoup4                     4.11.2\n",
      "billiard                           3.6.4.0\n",
      "bitarray                           1.9.2\n",
      "bkcharts                           0.2\n",
      "black                              19.10b0\n",
      "bleach                             3.3.0\n",
      "bokeh                              2.3.2\n",
      "boto                               2.49.0\n",
      "boto3                              1.26.83\n",
      "botocore                           1.29.127\n",
      "Bottleneck                         1.3.2\n",
      "brotlipy                           0.7.0\n",
      "cachetools                         5.3.0\n",
      "celery                             5.2.7\n",
      "certifi                            2022.12.7\n",
      "cffi                               1.14.5\n",
      "channels                           4.0.0\n",
      "chardet                            4.0.0\n",
      "charset-normalizer                 3.0.1\n",
      "click                              8.1.3\n",
      "click-didyoumean                   0.3.0\n",
      "click-plugins                      1.1.1\n",
      "click-repl                         0.2.0\n",
      "cloudpickle                        1.6.0\n",
      "clyent                             1.2.2\n",
      "colorama                           0.4.4\n",
      "comm                               0.1.3\n",
      "comtypes                           1.1.9\n",
      "conda                              4.10.1\n",
      "conda-build                        3.21.4\n",
      "conda-content-trust                0+unknown\n",
      "conda-package-handling             1.7.3\n",
      "conda-repo-cli                     1.0.4\n",
      "conda-token                        0.3.0\n",
      "conda-verify                       3.4.2\n",
      "constantly                         15.1.0\n",
      "contextlib2                        0.6.0.post1\n",
      "croniter                           1.3.14\n",
      "cryptography                       40.0.2\n",
      "cycler                             0.10.0\n",
      "Cython                             0.29.23\n",
      "cytoolz                            0.11.0\n",
      "daphne                             4.0.0\n",
      "dask                               2021.4.0\n",
      "debugpy                            1.6.7\n",
      "decorator                          5.0.6\n",
      "defusedxml                         0.7.1\n",
      "diff-match-patch                   20200713\n",
      "distributed                        2021.4.0\n",
      "dj-rest-auth                       3.0.0\n",
      "Django                             4.2\n",
      "django-allauth                     0.52.0\n",
      "django-cors-headers                3.10.1\n",
      "django-drf-filepond                0.4.1\n",
      "django-filter                      21.1\n",
      "django-storages                    1.13.2\n",
      "djangorestframework                3.14.0\n",
      "docutils                           0.17\n",
      "entrypoints                        0.3\n",
      "et-xmlfile                         1.0.1\n",
      "exceptiongroup                     1.1.3\n",
      "execnb                             0.1.5\n",
      "executing                          1.2.0\n",
      "fastcache                          1.1.0\n",
      "fastcore                           1.5.29\n",
      "fastjsonschema                     2.18.0\n",
      "filelock                           3.0.12\n",
      "flake8                             3.9.0\n",
      "Flask                              1.1.2\n",
      "flatbuffers                        23.3.3\n",
      "fqdn                               1.5.1\n",
      "frozendict                         2.3.5\n",
      "fsspec                             0.9.0\n",
      "future                             0.18.2\n",
      "gast                               0.4.0\n",
      "gevent                             21.1.2\n",
      "glob2                              0.7\n",
      "google-auth                        2.16.3\n",
      "google-auth-oauthlib               0.4.6\n",
      "google-pasta                       0.2.0\n",
      "greenlet                           1.0.0\n",
      "grpcio                             1.53.0\n",
      "h5py                               2.10.0\n",
      "HeapDict                           1.0.1\n",
      "html5lib                           1.1\n",
      "hyperlink                          21.0.0\n",
      "idna                               2.10\n",
      "imagecodecs                        2021.3.31\n",
      "imageio                            2.9.0\n",
      "imagesize                          1.2.0\n",
      "importlib-metadata                 6.1.0\n",
      "importlib-resources                6.0.1\n",
      "incremental                        22.10.0\n",
      "iniconfig                          1.1.1\n",
      "intervaltree                       3.1.0\n",
      "ipykernel                          6.22.0\n",
      "ipython                            8.12.2\n",
      "ipython-genutils                   0.2.0\n",
      "ipywidgets                         8.0.3\n",
      "isoduration                        20.11.0\n",
      "isort                              5.8.0\n",
      "itsdangerous                       1.1.0\n",
      "jax                                0.4.7\n",
      "jdcal                              1.4.1\n",
      "jedi                               0.17.2\n",
      "Jinja2                             3.1.2\n",
      "jmespath                           1.0.1\n",
      "joblib                             1.0.1\n",
      "json5                              0.9.5\n",
      "jsonpointer                        2.4\n",
      "jsonschema                         4.19.0\n",
      "jsonschema-specifications          2023.7.1\n",
      "jupyter                            1.0.0\n",
      "jupyter-client                     8.3.1\n",
      "jupyter-console                    6.4.0\n",
      "jupyter-core                       5.3.0\n",
      "jupyter-events                     0.7.0\n",
      "jupyter-packaging                  0.7.12\n",
      "jupyter-server                     2.7.3\n",
      "jupyter-server-terminals           0.4.4\n",
      "jupyterlab                         3.0.14\n",
      "jupyterlab-link-share              0.3.0\n",
      "jupyterlab-pygments                0.1.2\n",
      "jupyterlab-server                  2.4.0\n",
      "jupyterlab-widgets                 3.0.7\n",
      "kaleido                            0.2.1\n",
      "keras                              2.12.0\n",
      "keyring                            22.3.0\n",
      "kiwisolver                         1.3.1\n",
      "kombu                              5.2.4\n",
      "lazy-object-proxy                  1.6.0\n",
      "libarchive-c                       2.9\n",
      "libclang                           16.0.0\n",
      "llvmlite                           0.36.0\n",
      "locket                             0.2.1\n",
      "lxml                               4.9.2\n",
      "Markdown                           3.3.6\n",
      "MarkupSafe                         2.1.2\n",
      "matplotlib                         3.3.4\n",
      "matplotlib-inline                  0.1.6\n",
      "mccabe                             0.6.1\n",
      "menuinst                           1.4.16\n",
      "mercury                            2.2.9\n",
      "mistune                            2.0.5\n",
      "mkl-fft                            1.3.0\n",
      "mkl-random                         1.2.1\n",
      "mkl-service                        2.3.0\n",
      "ml-dtypes                          0.0.4\n",
      "mock                               4.0.3\n",
      "more-itertools                     8.7.0\n",
      "mpmath                             1.2.1\n",
      "msgpack                            1.0.2\n",
      "multipledispatch                   0.6.0\n",
      "multitasking                       0.0.11\n",
      "mypy-extensions                    0.4.3\n",
      "navigator-updater                  0.2.1\n",
      "nbclassic                          0.2.6\n",
      "nbclient                           0.5.3\n",
      "nbconvert                          7.3.1\n",
      "nbformat                           5.9.2\n",
      "nest-asyncio                       1.5.1\n",
      "networkx                           2.5\n",
      "nltk                               3.6.1\n",
      "nose                               1.3.7\n",
      "notebook                           6.3.0\n",
      "numba                              0.53.1\n",
      "numexpr                            2.7.3\n",
      "numpy                              1.22.0\n",
      "numpydoc                           1.1.0\n",
      "oauthlib                           3.2.2\n",
      "olefile                            0.46\n",
      "openpyxl                           3.0.7\n",
      "opt-einsum                         3.3.0\n",
      "overrides                          7.4.0\n",
      "packaging                          23.0\n",
      "pandas                             1.5.3\n",
      "pandocfilters                      1.4.3\n",
      "paramiko                           2.7.2\n",
      "parso                              0.7.0\n",
      "partd                              1.2.0\n",
      "path                               15.1.2\n",
      "pathlib2                           2.3.5\n",
      "pathspec                           0.7.0\n",
      "patsy                              0.5.3\n",
      "pep8                               1.7.1\n",
      "pexpect                            4.8.0\n",
      "pickleshare                        0.7.5\n",
      "Pillow                             8.2.0\n",
      "pip                                21.0.1\n",
      "pkginfo                            1.7.0\n",
      "pkgutil-resolve-name               1.3.10\n",
      "platformdirs                       3.5.0\n",
      "plotly                             5.14.1\n",
      "pluggy                             0.13.1\n",
      "ply                                3.11\n",
      "pmdarima                           2.0.3\n",
      "prometheus-client                  0.10.1\n",
      "prompt-toolkit                     3.0.38\n",
      "protobuf                           4.22.1\n",
      "psutil                             5.8.0\n",
      "ptyprocess                         0.7.0\n",
      "pure-eval                          0.2.2\n",
      "py                                 1.10.0\n",
      "pyasn1                             0.4.8\n",
      "pyasn1-modules                     0.2.8\n",
      "pycodestyle                        2.6.0\n",
      "pycosat                            0.6.3\n",
      "pycparser                          2.20\n",
      "pycurl                             7.43.0.6\n",
      "pydocstyle                         6.0.0\n",
      "pyee                               8.2.2\n",
      "pyerfa                             1.7.3\n",
      "pyflakes                           2.2.0\n",
      "Pygments                           2.8.1\n",
      "PyJWT                              2.6.0\n",
      "pylint                             2.7.4\n",
      "pyls-black                         0.4.6\n",
      "pyls-spyder                        0.3.2\n",
      "PyNaCl                             1.4.0\n",
      "pyodbc                             4.0.0-unsupported\n",
      "pyOpenSSL                          23.1.1\n",
      "pyparsing                          2.4.7\n",
      "pyppeteer                          1.0.2\n",
      "pyreadline                         2.1\n",
      "pyrsistent                         0.17.3\n",
      "PySocks                            1.7.1\n",
      "pytest                             6.2.3\n",
      "python-dateutil                    2.8.2\n",
      "python-dotenv                      1.0.0\n",
      "python-json-logger                 2.0.7\n",
      "python-jsonrpc-server              0.4.0\n",
      "python-language-server             0.36.2\n",
      "python3-openid                     3.2.0\n",
      "pytz                               2022.7.1\n",
      "PyWavelets                         1.1.1\n",
      "pywin32                            306\n",
      "pywin32-ctypes                     0.2.0\n",
      "pywinpty                           2.0.11\n",
      "PyYAML                             6.0\n",
      "pyzmq                              25.1.1\n",
      "QDarkStyle                         2.8.1\n",
      "QtAwesome                          1.0.2\n",
      "qtconsole                          5.0.3\n",
      "QtPy                               1.9.0\n",
      "referencing                        0.30.2\n",
      "regex                              2021.4.4\n",
      "requests                           2.28.2\n",
      "requests-oauthlib                  1.3.1\n",
      "rfc3339-validator                  0.1.4\n",
      "rfc3986-validator                  0.1.1\n",
      "rope                               0.18.0\n",
      "rpds-py                            0.10.3\n",
      "rsa                                4.9\n",
      "Rtree                              0.9.7\n",
      "ruamel-yaml-conda                  0.15.100\n",
      "s3transfer                         0.6.1\n",
      "scikit-image                       0.18.1\n",
      "scikit-learn                       0.24.1\n",
      "scipy                              1.10.1\n",
      "seaborn                            0.11.1\n",
      "Send2Trash                         1.8.2\n",
      "service-identity                   21.1.0\n",
      "setuptools                         52.0.0.post20210125\n",
      "shortuuid                          1.0.11\n",
      "simplegeneric                      0.8.1\n",
      "singledispatch                     0.0.0\n",
      "sip                                4.19.13\n",
      "six                                1.15.0\n",
      "sniffio                            1.2.0\n",
      "snowballstemmer                    2.1.0\n",
      "sortedcollections                  2.1.0\n",
      "sortedcontainers                   2.3.0\n",
      "soupsieve                          2.2.1\n",
      "Sphinx                             4.0.1\n",
      "sphinxcontrib-applehelp            1.0.2\n",
      "sphinxcontrib-devhelp              1.0.2\n",
      "sphinxcontrib-htmlhelp             1.0.3\n",
      "sphinxcontrib-jsmath               1.0.1\n",
      "sphinxcontrib-qthelp               1.0.3\n",
      "sphinxcontrib-serializinghtml      1.1.4\n",
      "sphinxcontrib-websupport           1.2.4\n",
      "spyder                             4.2.5\n",
      "spyder-kernels                     1.10.2\n",
      "SQLAlchemy                         1.4.27\n",
      "sqlparse                           0.4.4\n",
      "stack-data                         0.6.2\n",
      "statsmodels                        0.13.5\n",
      "sympy                              1.8\n",
      "tables                             3.6.1\n",
      "tblib                              1.7.0\n",
      "tenacity                           8.2.2\n",
      "tensorboard                        2.12.0\n",
      "tensorboard-data-server            0.7.0\n",
      "tensorboard-plugin-wit             1.8.1\n",
      "tensorflow                         2.12.0\n",
      "tensorflow-estimator               2.12.0\n",
      "tensorflow-intel                   2.12.0\n",
      "tensorflow-io-gcs-filesystem       0.31.0\n",
      "termcolor                          2.2.0\n",
      "terminado                          0.9.4\n",
      "testpath                           0.4.4\n",
      "textdistance                       4.2.1\n",
      "threadpoolctl                      2.1.0\n",
      "three-merge                        0.1.1\n",
      "tifffile                           2021.4.8\n",
      "tinycss2                           1.2.1\n",
      "toml                               0.10.2\n",
      "toolz                              0.11.1\n",
      "tornado                            6.3.3\n",
      "tqdm                               4.59.0\n",
      "traitlets                          5.9.0\n",
      "Twisted                            22.10.0\n",
      "twisted-iocpsupport                1.0.3\n",
      "txaio                              23.1.1\n",
      "typed-ast                          1.4.2\n",
      "typing-extensions                  3.7.4.3\n",
      "tzdata                             2023.3\n",
      "ujson                              4.0.2\n",
      "unicodecsv                         0.14.1\n",
      "uri-template                       1.3.0\n",
      "urllib3                            1.26.4\n",
      "vine                               5.0.0\n",
      "watchdog                           1.0.2\n",
      "wcwidth                            0.2.5\n",
      "webcolors                          1.13\n",
      "webencodings                       0.5.1\n",
      "websocket-client                   1.5.1\n",
      "websockets                         10.4\n",
      "Werkzeug                           1.0.1\n",
      "wheel                              0.36.2\n",
      "whitenoise                         6.4.0\n",
      "widgetsnbextension                 4.0.7\n",
      "win-inet-pton                      1.1.0\n",
      "win-unicode-console                0.5\n",
      "wincertstore                       0.2\n",
      "wrapt                              1.12.1\n",
      "xlrd                               2.0.1\n",
      "XlsxWriter                         1.3.8\n",
      "xlwings                            0.23.0\n",
      "xlwt                               1.3.0\n",
      "xmltodict                          0.12.0\n",
      "yapf                               0.31.0\n",
      "yfinance                           0.2.12\n",
      "zict                               2.0.0\n",
      "zipp                               3.4.1\n",
      "zope.event                         4.5.0\n",
      "zope.interface                     5.3.0\n"
     ]
    }
   ],
   "source": [
    "!pip list"
   ]
  },
  {
   "cell_type": "code",
   "execution_count": 8,
   "metadata": {
    "tags": []
   },
   "outputs": [],
   "source": [
    "from tensorflow.keras.layers import TextVectorization"
   ]
  },
  {
   "cell_type": "code",
   "execution_count": 17,
   "metadata": {
    "tags": []
   },
   "outputs": [
    {
     "data": {
      "text/plain": [
       "0        Explanation\\nWhy the edits made under my usern...\n",
       "1        D'aww! He matches this background colour I'm s...\n",
       "2        Hey man, I'm really not trying to edit war. It...\n",
       "3        \"\\nMore\\nI can't make any real suggestions on ...\n",
       "4        You, sir, are my hero. Any chance you remember...\n",
       "                               ...                        \n",
       "15952    Tags\\n\\nThose tags are horrid. Please, someone...\n",
       "15953    Congratulations \\n\\nYou're now an admin. Use t...\n",
       "15954    I've seen discussions on the internet that men...\n",
       "15955    Hi, the recent edit you made to Wikipedia:Arti...\n",
       "15956    Wow, what an incredible douchebag, I love the ...\n",
       "Name: comment_text, Length: 15957, dtype: object"
      ]
     },
     "execution_count": 17,
     "metadata": {},
     "output_type": "execute_result"
    }
   ],
   "source": [
    "X = df['comment_text']\n",
    "y = df[df.columns[2:]].values\n"
   ]
  },
  {
   "cell_type": "code",
   "execution_count": 18,
   "metadata": {
    "tags": []
   },
   "outputs": [],
   "source": [
    "MAX_FEATURES = 20000 # number of words in the vocab"
   ]
  },
  {
   "cell_type": "code",
   "execution_count": 19,
   "metadata": {
    "tags": []
   },
   "outputs": [],
   "source": [
    "vectorizer = TextVectorization(max_tokens=MAX_FEATURES,\n",
    "                               output_sequence_length=180,\n",
    "                               output_mode='int')"
   ]
  },
  {
   "cell_type": "code",
   "execution_count": 20,
   "metadata": {
    "tags": []
   },
   "outputs": [
    {
     "data": {
      "text/plain": [
       "array([\"Explanation\\nWhy the edits made under my username Hardcore Metallica Fan were reverted? They weren't vandalisms, just closure on some GAs after I voted at New York Dolls FAC. And please don't remove the template from the talk page since I'm retired now.89.205.38.27\",\n",
       "       \"D'aww! He matches this background colour I'm seemingly stuck with. Thanks.  (talk) 21:51, January 11, 2016 (UTC)\",\n",
       "       \"Hey man, I'm really not trying to edit war. It's just that this guy is constantly removing relevant information and talking to me through edits instead of my talk page. He seems to care more about the formatting than the actual info.\",\n",
       "       ...,\n",
       "       \"I've seen discussions on the internet that mention that Milly Kondracke actually was found to have Multiple System Atrophy and not Parkinson's Disease.  http://www.parkinsons-information-exchange-network-online.com/parkmail1.1/2005a/msg00545.html\",\n",
       "       'Hi, the recent edit you made to Wikipedia:Articles for creation/Today has been reverted, as it appears to be unconstructive. Use the sandbox for any test edits you want to make. Thanks.',\n",
       "       \"Wow, what an incredible douchebag, I love the hyperbole 'I dread to think of the consequences' - what a self-important jackass.24.224.214.165\"],\n",
       "      dtype=object)"
      ]
     },
     "execution_count": 20,
     "metadata": {},
     "output_type": "execute_result"
    }
   ],
   "source": [
    "vectorizer.adapt(X.values)\n",
    "X.values"
   ]
  },
  {
   "cell_type": "code",
   "execution_count": 21,
   "metadata": {
    "tags": []
   },
   "outputs": [],
   "source": [
    "vectorized_text = vectorizer(X.values)"
   ]
  },
  {
   "cell_type": "code",
   "execution_count": 22,
   "metadata": {
    "tags": []
   },
   "outputs": [],
   "source": [
    "#MCSHBAP - map, chache, shuffle, batch, prefetch  from_tensor_slices, list_file\n",
    "dataset = tf.data.Dataset.from_tensor_slices((vectorized_text, y))\n",
    "dataset = dataset.cache()\n",
    "dataset = dataset.shuffle(16000)\n",
    "dataset = dataset.batch(16)\n",
    "dataset = dataset.prefetch(8) # helps bottlenecks"
   ]
  },
  {
   "cell_type": "code",
   "execution_count": 23,
   "metadata": {
    "tags": []
   },
   "outputs": [],
   "source": [
    "train = dataset.take(int(len(dataset)*.7))\n",
    "val = dataset.skip(int(len(dataset)*.7)).take(int(len(dataset)*.2))\n",
    "test = dataset.skip(int(len(dataset)*.9)).take(int(len(dataset)*.1))"
   ]
  },
  {
   "cell_type": "markdown",
   "metadata": {},
   "source": [
    "# 2. Create Sequential Model"
   ]
  },
  {
   "cell_type": "code",
   "execution_count": 24,
   "metadata": {
    "tags": []
   },
   "outputs": [],
   "source": [
    "from tensorflow.keras.models import Sequential\n",
    "from tensorflow.keras.layers import LSTM, Dropout, Bidirectional, Dense, Embedding"
   ]
  },
  {
   "cell_type": "code",
   "execution_count": 54,
   "metadata": {
    "tags": []
   },
   "outputs": [],
   "source": [
    "model = Sequential()\n",
    "# Create the embedding layer \n",
    "model.add(Embedding(MAX_FEATURES+1, 32))\n",
    "# Bidirectional LSTM Layer\n",
    "model.add(Bidirectional(LSTM(32, activation='tanh')))\n",
    "# Feature extractor Fully connected layers\n",
    "model.add(Dense(128, activation='relu'))\n",
    "model.add(Dense(256, activation='relu'))\n",
    "model.add(Dense(128, activation='relu'))\n",
    "# Final layer \n",
    "model.add(Dense(6, activation='sigmoid'))"
   ]
  },
  {
   "cell_type": "code",
   "execution_count": 55,
   "metadata": {
    "tags": []
   },
   "outputs": [],
   "source": [
    "model.compile(loss='BinaryCrossentropy', optimizer='Adam')"
   ]
  },
  {
   "cell_type": "code",
   "execution_count": 56,
   "metadata": {
    "tags": []
   },
   "outputs": [
    {
     "name": "stdout",
     "output_type": "stream",
     "text": [
      "Model: \"sequential_3\"\n",
      "_________________________________________________________________\n",
      " Layer (type)                Output Shape              Param #   \n",
      "=================================================================\n",
      " embedding_2 (Embedding)     (None, None, 32)          640032    \n",
      "                                                                 \n",
      " bidirectional_1 (Bidirectio  (None, 64)               16640     \n",
      " nal)                                                            \n",
      "                                                                 \n",
      " dense_4 (Dense)             (None, 128)               8320      \n",
      "                                                                 \n",
      " dense_5 (Dense)             (None, 256)               33024     \n",
      "                                                                 \n",
      " dense_6 (Dense)             (None, 128)               32896     \n",
      "                                                                 \n",
      " dense_7 (Dense)             (None, 6)                 774       \n",
      "                                                                 \n",
      "=================================================================\n",
      "Total params: 731,686\n",
      "Trainable params: 731,686\n",
      "Non-trainable params: 0\n",
      "_________________________________________________________________\n"
     ]
    }
   ],
   "source": [
    "model.summary()"
   ]
  },
  {
   "cell_type": "code",
   "execution_count": 173,
   "metadata": {
    "tags": []
   },
   "outputs": [
    {
     "name": "stdout",
     "output_type": "stream",
     "text": [
      "Epoch 1/6\n",
      "698/698 [==============================] - 57s 82ms/step - loss: 0.0178 - val_loss: 0.0178\n",
      "Epoch 2/6\n",
      "698/698 [==============================] - 59s 85ms/step - loss: 0.0176 - val_loss: 0.0129\n",
      "Epoch 3/6\n",
      "698/698 [==============================] - 59s 85ms/step - loss: 0.0161 - val_loss: 0.0158\n",
      "Epoch 4/6\n",
      "698/698 [==============================] - 59s 84ms/step - loss: 0.0142 - val_loss: 0.0135\n",
      "Epoch 5/6\n",
      "698/698 [==============================] - 59s 84ms/step - loss: 0.0128 - val_loss: 0.0133\n",
      "Epoch 6/6\n",
      "698/698 [==============================] - 60s 86ms/step - loss: 0.0133 - val_loss: 0.0095\n"
     ]
    }
   ],
   "source": [
    "history = model.fit(train, epochs=6, validation_data=val)\n",
    "\n"
   ]
  },
  {
   "cell_type": "code",
   "execution_count": 174,
   "metadata": {
    "tags": []
   },
   "outputs": [],
   "source": [
    "from matplotlib import pyplot as plt"
   ]
  },
  {
   "cell_type": "code",
   "execution_count": 175,
   "metadata": {
    "jupyter": {
     "outputs_hidden": true
    },
    "tags": []
   },
   "outputs": [
    {
     "data": {
      "text/plain": [
       "<Figure size 800x500 with 0 Axes>"
      ]
     },
     "metadata": {},
     "output_type": "display_data"
    },
    {
     "data": {
      "image/png": "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",
      "text/plain": [
       "<Figure size 640x480 with 1 Axes>"
      ]
     },
     "metadata": {},
     "output_type": "display_data"
    }
   ],
   "source": [
    "plt.figure(figsize=(8,5))\n",
    "pd.DataFrame(history.history).plot()\n",
    "plt.show()"
   ]
  },
  {
   "cell_type": "markdown",
   "metadata": {},
   "source": [
    "# 3. Make Predictions"
   ]
  },
  {
   "cell_type": "code",
   "execution_count": 6,
   "metadata": {
    "collapsed": true,
    "tags": []
   },
   "outputs": [
    {
     
     ]
    }
   ],
   "source": [
    "input_text = vectorizer('I will kill you')\n",
    "input_text = tf.expand_dims(input_text, axis=0)\n"
   ]
  },
  {
   "cell_type": "code",
   "execution_count": 177,
   "metadata": {
    "tags": []
   },
   "outputs": [
    {
     "name": "stdout",
     "output_type": "stream",
     "text": [
      "1/1 [==============================] - 0s 42ms/step\n"
     ]
    }
   ],
   "source": [
    "res = model.predict(input_text)"
   ]
  },
  {
   "cell_type": "code",
   "execution_count": 178,
   "metadata": {
    "jupyter": {
     "source_hidden": true
    }
   },
   "outputs": [
    {
     "data": {
      "text/plain": [
       "array([[1, 1, 1, 0, 1, 0]])"
      ]
     },
     "execution_count": 178,
     "metadata": {},
     "output_type": "execute_result"
    }
   ],
   "source": [
    "(res > 0.5).astype(int)"
   ]
  },
  {
   "cell_type": "code",
   "execution_count": 179,
   "metadata": {},
   "outputs": [],
   "source": [
    "batch_X, batch_y = test.as_numpy_iterator().next()"
   ]
  },
  {
   "cell_type": "code",
   "execution_count": 180,
   "metadata": {
    "jupyter": {
     "outputs_hidden": true
    },
    "tags": []
   },
   "outputs": [
    {
     "name": "stdout",
     "output_type": "stream",
     "text": [
      "1/1 [==============================] - 0s 49ms/step\n"
     ]
    },
    {
     "data": {
      "text/plain": [
       "array([[0, 0, 0, 0, 0, 0],\n",
       "       [0, 0, 0, 0, 0, 0],\n",
       "       [0, 0, 0, 0, 0, 0],\n",
       "       [0, 0, 0, 0, 0, 0],\n",
       "       [0, 0, 0, 0, 0, 0],\n",
       "       [0, 0, 0, 0, 0, 0],\n",
       "       [0, 0, 0, 0, 0, 0],\n",
       "       [0, 0, 0, 0, 0, 0],\n",
       "       [0, 0, 0, 0, 0, 0],\n",
       "       [0, 0, 0, 0, 0, 0],\n",
       "       [0, 0, 0, 0, 0, 0],\n",
       "       [0, 0, 0, 0, 0, 0],\n",
       "       [0, 0, 0, 0, 0, 0],\n",
       "       [1, 1, 1, 0, 1, 0],\n",
       "       [0, 0, 0, 0, 0, 0],\n",
       "       [0, 0, 0, 0, 0, 0]])"
      ]
     },
     "execution_count": 180,
     "metadata": {},
     "output_type": "execute_result"
    }
   ],
   "source": [
    "(model.predict(batch_X) > 0.5).astype(int)"
   ]
  },
  {
   "cell_type": "code",
   "execution_count": 181,
   "metadata": {},
   "outputs": [
    {
     "data": {
      "text/plain": [
       "(1, 6)"
      ]
     },
     "execution_count": 181,
     "metadata": {},
     "output_type": "execute_result"
    }
   ],
   "source": [
    "res.shape"
   ]
  },
  {
   "cell_type": "markdown",
   "metadata": {},
   "source": [
    "# 4. Evaluate Model"
   ]
  },
  {
   "cell_type": "code",
   "execution_count": 182,
   "metadata": {
    "tags": []
   },
   "outputs": [],
   "source": [
    "from tensorflow.keras.metrics import Precision, Recall, CategoricalAccuracy"
   ]
  },
  {
   "cell_type": "code",
   "execution_count": 183,
   "metadata": {
    "tags": []
   },
   "outputs": [],
   "source": [
    "pre = Precision()\n",
    "re = Recall()\n",
    "acc = CategoricalAccuracy()"
   ]
  },
  {
   "cell_type": "code",
   "execution_count": 184,
   "metadata": {
    "tags": []
   },
   "outputs": [
    {
     "name": "stdout",
     "output_type": "stream",
     "text": [
      "1/1 [==============================] - 0s 46ms/step\n",
      "1/1 [==============================] - 0s 50ms/step\n",
      "1/1 [==============================] - 0s 50ms/step\n",
      "1/1 [==============================] - 0s 44ms/step\n",
      "1/1 [==============================] - 0s 50ms/step\n",
      "1/1 [==============================] - 0s 50ms/step\n",
      "1/1 [==============================] - 0s 51ms/step\n",
      "1/1 [==============================] - 0s 48ms/step\n",
      "1/1 [==============================] - 0s 49ms/step\n",
      "1/1 [==============================] - 0s 46ms/step\n",
      "1/1 [==============================] - 0s 54ms/step\n",
      "1/1 [==============================] - 0s 53ms/step\n",
      "1/1 [==============================] - 0s 52ms/step\n",
      "1/1 [==============================] - 0s 50ms/step\n",
      "1/1 [==============================] - 0s 47ms/step\n",
      "1/1 [==============================] - 0s 46ms/step\n",
      "1/1 [==============================] - 0s 49ms/step\n",
      "1/1 [==============================] - 0s 57ms/step\n",
      "1/1 [==============================] - 0s 47ms/step\n",
      "1/1 [==============================] - 0s 51ms/step\n",
      "1/1 [==============================] - 0s 45ms/step\n",
      "1/1 [==============================] - 0s 49ms/step\n",
      "1/1 [==============================] - 0s 56ms/step\n",
      "1/1 [==============================] - 0s 51ms/step\n",
      "1/1 [==============================] - 0s 48ms/step\n",
      "1/1 [==============================] - 0s 51ms/step\n",
      "1/1 [==============================] - 0s 52ms/step\n",
      "1/1 [==============================] - 0s 48ms/step\n",
      "1/1 [==============================] - 0s 49ms/step\n",
      "1/1 [==============================] - 0s 55ms/step\n",
      "1/1 [==============================] - 0s 54ms/step\n",
      "1/1 [==============================] - 0s 53ms/step\n",
      "1/1 [==============================] - 0s 52ms/step\n",
      "1/1 [==============================] - 0s 53ms/step\n",
      "1/1 [==============================] - 0s 46ms/step\n",
      "1/1 [==============================] - 0s 51ms/step\n",
      "1/1 [==============================] - 0s 49ms/step\n",
      "1/1 [==============================] - 0s 50ms/step\n",
      "1/1 [==============================] - 0s 49ms/step\n",
      "1/1 [==============================] - 0s 50ms/step\n",
      "1/1 [==============================] - 0s 47ms/step\n",
      "1/1 [==============================] - 0s 49ms/step\n",
      "1/1 [==============================] - 0s 51ms/step\n",
      "1/1 [==============================] - 0s 47ms/step\n",
      "1/1 [==============================] - 0s 55ms/step\n",
      "1/1 [==============================] - 0s 51ms/step\n",
      "1/1 [==============================] - 0s 48ms/step\n",
      "1/1 [==============================] - 0s 49ms/step\n",
      "1/1 [==============================] - 0s 48ms/step\n",
      "1/1 [==============================] - 0s 56ms/step\n",
      "1/1 [==============================] - 0s 48ms/step\n",
      "1/1 [==============================] - 0s 46ms/step\n",
      "1/1 [==============================] - 0s 47ms/step\n",
      "1/1 [==============================] - 0s 49ms/step\n",
      "1/1 [==============================] - 0s 51ms/step\n",
      "1/1 [==============================] - 0s 53ms/step\n",
      "1/1 [==============================] - 0s 50ms/step\n",
      "1/1 [==============================] - 0s 49ms/step\n",
      "1/1 [==============================] - 0s 50ms/step\n",
      "1/1 [==============================] - 0s 53ms/step\n",
      "1/1 [==============================] - 0s 49ms/step\n",
      "1/1 [==============================] - 0s 50ms/step\n",
      "1/1 [==============================] - 0s 46ms/step\n",
      "1/1 [==============================] - 0s 51ms/step\n",
      "1/1 [==============================] - 0s 47ms/step\n",
      "1/1 [==============================] - 0s 53ms/step\n",
      "1/1 [==============================] - 0s 51ms/step\n",
      "1/1 [==============================] - 0s 54ms/step\n",
      "1/1 [==============================] - 0s 53ms/step\n",
      "1/1 [==============================] - 0s 54ms/step\n",
      "1/1 [==============================] - 0s 50ms/step\n",
      "1/1 [==============================] - 0s 50ms/step\n",
      "1/1 [==============================] - 0s 50ms/step\n",
      "1/1 [==============================] - 0s 49ms/step\n",
      "1/1 [==============================] - 0s 47ms/step\n",
      "1/1 [==============================] - 0s 46ms/step\n",
      "1/1 [==============================] - 0s 46ms/step\n",
      "1/1 [==============================] - 0s 47ms/step\n",
      "1/1 [==============================] - 0s 51ms/step\n",
      "1/1 [==============================] - 0s 53ms/step\n",
      "1/1 [==============================] - 0s 51ms/step\n",
      "1/1 [==============================] - 0s 48ms/step\n",
      "1/1 [==============================] - 0s 48ms/step\n",
      "1/1 [==============================] - 0s 51ms/step\n",
      "1/1 [==============================] - 0s 48ms/step\n",
      "1/1 [==============================] - 0s 46ms/step\n",
      "1/1 [==============================] - 0s 47ms/step\n",
      "1/1 [==============================] - 0s 49ms/step\n",
      "1/1 [==============================] - 0s 53ms/step\n",
      "1/1 [==============================] - 0s 51ms/step\n",
      "1/1 [==============================] - 0s 48ms/step\n",
      "1/1 [==============================] - 0s 50ms/step\n",
      "1/1 [==============================] - 0s 47ms/step\n",
      "1/1 [==============================] - 0s 51ms/step\n",
      "1/1 [==============================] - 0s 53ms/step\n",
      "1/1 [==============================] - 0s 50ms/step\n",
      "1/1 [==============================] - 0s 53ms/step\n",
      "1/1 [==============================] - 0s 47ms/step\n",
      "1/1 [==============================] - 0s 47ms/step\n"
     ]
    }
   ],
   "source": [
    "for batch in test.as_numpy_iterator(): \n",
    "    # Unpack the batch \n",
    "    X_true, y_true = batch\n",
    "    # Make a prediction \n",
    "    yhat = model.predict(X_true)\n",
    "    \n",
    "    # Flatten the predictions\n",
    "    y_true = y_true.flatten()\n",
    "    yhat = yhat.flatten()\n",
    "    \n",
    "    pre.update_state(y_true, yhat)\n",
    "    re.update_state(y_true, yhat)\n",
    "    acc.update_state(y_true, yhat)"
   ]
  },
  {
   "cell_type": "code",
   "execution_count": 185,
   "metadata": {
    "tags": []
   },
   "outputs": [
    {
     "name": "stdout",
     "output_type": "stream",
     "text": [
      "Precision: 0.9388379454612732, Recall:0.9388379454612732, Accuracy:0.5050504803657532\n"
     ]
    }
   ],
   "source": [
    "print(f'Precision: {pre.result().numpy()}, Recall:{re.result().numpy()}, Accuracy:{acc.result().numpy()}')"
   ]
  },
  {
   "cell_type": "code",
   "execution_count": null,
   "metadata": {},
   "outputs": [],
   "source": []
  },
  {
   "cell_type": "code",
   "execution_count": null,
   "metadata": {},
   "outputs": [],
   "source": []
  }
 ],
 "metadata": {
  "kernelspec": {
   "display_name": "Python 3 (ipykernel)",
   "language": "python",
   "name": "python3"
  },
  "language_info": {
   "codemirror_mode": {
    "name": "ipython",
    "version": 3
   },
   "file_extension": ".py",
   "mimetype": "text/x-python",
   "name": "python",
   "nbconvert_exporter": "python",
   "pygments_lexer": "ipython3",
   "version": "3.8.8"
  }
 },
 "nbformat": 4,
 "nbformat_minor": 4
}
